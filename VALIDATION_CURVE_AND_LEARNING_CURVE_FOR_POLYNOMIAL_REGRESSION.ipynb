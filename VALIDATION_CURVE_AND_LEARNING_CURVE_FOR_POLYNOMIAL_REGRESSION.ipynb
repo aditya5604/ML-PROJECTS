{
  "nbformat": 4,
  "nbformat_minor": 0,
  "metadata": {
    "colab": {
      "provenance": []
    },
    "kernelspec": {
      "name": "python3",
      "display_name": "Python 3"
    },
    "language_info": {
      "name": "python"
    }
  },
  "cells": [
    {
      "cell_type": "code",
      "execution_count": 24,
      "metadata": {
        "id": "H5XkJKSV7Wb9"
      },
      "outputs": [],
      "source": [
        "from sklearn.preprocessing import PolynomialFeatures\n",
        "from sklearn.linear_model import LinearRegression\n",
        "from sklearn.pipeline import make_pipeline\n",
        "from sklearn.metrics import r2_score"
      ]
    },
    {
      "cell_type": "code",
      "source": [
        "def PolynomialRegression(degree = 2, **kwargs):\n",
        "  return make_pipeline(PolynomialFeatures(degree), LinearRegression(**kwargs))"
      ],
      "metadata": {
        "id": "awlEZ5Ei893g"
      },
      "execution_count": 2,
      "outputs": []
    },
    {
      "cell_type": "markdown",
      "source": [
        "Creating some data"
      ],
      "metadata": {
        "id": "_L-k-aigxv1C"
      }
    },
    {
      "cell_type": "code",
      "source": [
        "import numpy as np"
      ],
      "metadata": {
        "id": "kUvgnxWS98nT"
      },
      "execution_count": 95,
      "outputs": []
    },
    {
      "cell_type": "code",
      "source": [
        "def make_data(N, err = 1.0, rseed = 1):\n",
        "  rng = np.random.RandomState(rseed)\n",
        "  X = rng.rand(N, 1) ** 2\n",
        "  Y = 10 - 1./(X.ravel() + 0.1)\n",
        "  if err > 0:\n",
        "    Y += err*rng.rand(N)\n",
        "  return X, Y\n",
        "\n",
        "X, Y = make_data(200)\n",
        "\n",
        "%matplotlib inline\n",
        "import matplotlib.pyplot as plt\n",
        "import seaborn; seaborn.set()\n",
        "\n",
        "Xtest = np.linspace(-0.1, 1.1, 500)\n",
        "X_test = Xtest[:, np.newaxis]\n",
        "\n",
        "plt.scatter(X.ravel(), Y, color = 'black')\n",
        "axis = plt.axis()\n",
        "for degree in [1, 3, 5, 7, 9, 11]:\n",
        "  Ytest = PolynomialRegression(degree).fit(X, Y).predict(X_test)\n",
        "  plt.plot(Xtest.ravel(), Ytest, label = 'degree = {0}'.format(degree))\n",
        "plt.xlim(-0.1, 1.0)\n",
        "plt.ylim(-2, 12)\n",
        "plt.legend(loc = 'best');"
      ],
      "metadata": {
        "colab": {
          "base_uri": "https://localhost:8080/",
          "height": 272
        },
        "id": "8zyZqba-x0vl",
        "outputId": "bad655e0-829e-483f-f9a9-851cec3e0f01"
      },
      "execution_count": 99,
      "outputs": [
        {
          "output_type": "display_data",
          "data": {
            "text/plain": [
              "<Figure size 432x288 with 1 Axes>"
            ],
            "image/png": "[encoded data removed]"
          },
          "metadata": {}
        }
      ]
    },
    {
      "cell_type": "markdown",
      "source": [
        "FINDING THE RIGHT BALANCE B/W BIAS AND VARIANCE"
      ],
      "metadata": {
        "id": "lgfiHoWa747N"
      }
    },
    {
      "cell_type": "code",
      "source": [
        "from sklearn.model_selection import validation_curve"
      ],
      "metadata": {
        "id": "eGxP_QuV5Dne"
      },
      "execution_count": 100,
      "outputs": []
    },
    {
      "cell_type": "code",
      "source": [
        "train_score, val_score = validation_curve(PolynomialRegression(), X, Y, param_name = 'polynomialfeatures__degree', param_range = np.arange(0, 20), cv = 7)"
      ],
      "metadata": {
        "id": "hC6uke0L8awH"
      },
      "execution_count": 101,
      "outputs": []
    },
    {
      "cell_type": "code",
      "source": [
        "print(train_score)"
      ],
      "metadata": {
        "colab": {
          "base_uri": "https://localhost:8080/"
        },
        "id": "TCS8gvpBB90h",
        "outputId": "413fe609-f899-4d34-d5e3-eff7062360f7"
      },
      "execution_count": 102,
      "outputs": [
        {
          "output_type": "stream",
          "name": "stdout",
          "text": [
            "[[0.         0.         0.         0.         0.         0.\n",
            "  0.        ]\n",
            " [0.72563772 0.72552063 0.7311126  0.73297283 0.71488799 0.7260305\n",
            "  0.72040716]\n",
            " [0.92471097 0.92657716 0.92417188 0.92365672 0.92069382 0.92214074\n",
            "  0.92412696]\n",
            " [0.96863004 0.97106135 0.96899339 0.97007623 0.96869388 0.97073374\n",
            "  0.97076769]\n",
            " [0.98514915 0.98619543 0.98522955 0.98579814 0.98512017 0.98598059\n",
            "  0.98612769]\n",
            " [0.99064959 0.9904576  0.98996672 0.99027408 0.9896363  0.99059135\n",
            "  0.99065869]\n",
            " [0.99229708 0.99192424 0.99177616 0.9919871  0.99158556 0.9919808\n",
            "  0.99198825]\n",
            " [0.99246095 0.99210273 0.99194855 0.99217215 0.99182377 0.99211852\n",
            "  0.99211655]\n",
            " [0.99268417 0.99218507 0.99217011 0.99223011 0.99190456 0.99217123\n",
            "  0.99235107]\n",
            " [0.99268678 0.99218509 0.99217744 0.99223023 0.99190809 0.99217634\n",
            "  0.99235136]\n",
            " [0.99342124 0.99287621 0.99256438 0.9931871  0.99242569 0.99283329\n",
            "  0.99290575]\n",
            " [0.99392239 0.99325936 0.99292315 0.99329507 0.9926897  0.99297107\n",
            "  0.99319473]\n",
            " [0.99393658 0.99326775 0.99293262 0.99333042 0.99273969 0.99297803\n",
            "  0.99320347]\n",
            " [0.99427659 0.99348277 0.99325076 0.99344485 0.99298483 0.9932224\n",
            "  0.99367748]\n",
            " [0.99429164 0.99348346 0.9932875  0.99344486 0.99298509 0.99322693\n",
            "  0.99367908]\n",
            " [0.99429178 0.99349443 0.99328982 0.99346021 0.99298909 0.99323023\n",
            "  0.99368725]\n",
            " [0.99443521 0.99349466 0.99333397 0.99351157 0.99303757 0.993312\n",
            "  0.99375729]\n",
            " [0.9944356  0.99350863 0.99333858 0.99353117 0.99304125 0.99334217\n",
            "  0.9937841 ]\n",
            " [0.99447801 0.99351576 0.99339145 0.99353118 0.9930517  0.99335498\n",
            "  0.99378585]\n",
            " [0.9944827  0.99351604 0.99339193 0.99356071 0.99305442 0.99336177\n",
            "  0.99378651]]\n"
          ]
        }
      ]
    },
    {
      "cell_type": "code",
      "source": [
        "print(val_score)"
      ],
      "metadata": {
        "colab": {
          "base_uri": "https://localhost:8080/"
        },
        "id": "vw3lZ-aJCAhE",
        "outputId": "e06f4f73-2a8d-4bb2-86fd-365db2ba779b"
      },
      "execution_count": 103,
      "outputs": [
        {
          "output_type": "stream",
          "name": "stdout",
          "text": [
            "[[-0.04768847 -0.00263961 -0.12647298 -0.05115513 -0.02002317 -0.0253333\n",
            "  -0.00568569]\n",
            " [ 0.71061262  0.72236264  0.6358472   0.65670701  0.76594317  0.71374542\n",
            "   0.7564713 ]\n",
            " [ 0.91355944  0.90624773  0.90898459  0.91936441  0.9354235   0.92926907\n",
            "   0.91940615]\n",
            " [ 0.97457944  0.96200599  0.97305508  0.9661261   0.9741692   0.96310073\n",
            "   0.96216421]\n",
            " [ 0.98757064  0.98211848  0.98696268  0.9831135   0.98767837  0.98303437\n",
            "   0.98193347]\n",
            " [ 0.98758558  0.98927305  0.99191637  0.98995474  0.99327758  0.98841766\n",
            "   0.98759367]\n",
            " [ 0.98908493  0.99172486  0.99204044  0.99039493  0.99324801  0.99121234\n",
            "   0.99101383]\n",
            " [ 0.9892986   0.99188271  0.99223538  0.99089533  0.99309096  0.9915831\n",
            "   0.99149993]\n",
            " [ 0.98870815  0.9922073   0.99134613  0.99120142  0.99341395  0.9919999\n",
            "   0.99066644]\n",
            " [ 0.98865783  0.99220882  0.99125582  0.9912173   0.99338754  0.99196543\n",
            "   0.99067121]\n",
            " [ 0.98844029  0.99210042  0.9937226   0.98310621  0.99434886  0.99210781\n",
            "   0.99154378]\n",
            " [ 0.98750766  0.99194401  0.99360589  0.98880256  0.9949647   0.99331881\n",
            "   0.9920599 ]\n",
            " [ 0.98751953  0.99197221  0.99364052  0.98368192  0.99471855  0.99338333\n",
            "   0.9920949 ]\n",
            " [ 0.98743136  0.99261053  0.99377223  0.99262297  0.99520718  0.99404791\n",
            "   0.99071336]\n",
            " [ 0.98715305  0.9925811   0.99313098  0.99263034  0.9952105   0.99400494\n",
            "   0.99071488]\n",
            " [ 0.98716169  0.99250092  0.99313976  0.98277963  0.99512396  0.9940016\n",
            "   0.99065346]\n",
            " [ 0.98651031  0.99244382  0.99323978  0.96405572  0.99516241  0.99374195\n",
            "   0.99054502]\n",
            " [ 0.98651231  0.99233824  0.99319801  0.97743738  0.99508774  0.99338257\n",
            "   0.99019301]\n",
            " [ 0.98623878  0.99235483  0.99251924  0.97569134  0.99506692  0.99337599\n",
            "   0.99023705]\n",
            " [ 0.98616241  0.99234282  0.99251815  0.08397471  0.99504741  0.99328959\n",
            "   0.9902287 ]]\n"
          ]
        }
      ]
    },
    {
      "cell_type": "code",
      "source": [
        "deg = np.arange(0, 20)\n",
        "plt.plot(deg, np.median(train_score, 1), color = 'blue', label = 'training score')\n",
        "plt.plot(deg, np.median(val_score, 1), color = 'red', label = 'validation score')\n",
        "plt.legend(loc = 'best')\n",
        "plt.ylim(0, 1)\n",
        "plt.xlim(0, 10)\n",
        "plt.xlabel('degree')\n",
        "plt.ylabel('score')"
      ],
      "metadata": {
        "colab": {
          "base_uri": "https://localhost:8080/",
          "height": 306
        },
        "id": "bd8BSx1qBMeu",
        "outputId": "fa8c4909-cef7-4134-d307-28d0e34e305f"
      },
      "execution_count": 104,
      "outputs": [
        {
          "output_type": "execute_result",
          "data": {
            "text/plain": [
              "Text(0, 0.5, 'score')"
            ]
          },
          "metadata": {},
          "execution_count": 104
        },
        {
          "output_type": "display_data",
          "data": {
            "text/plain": [
              "<Figure size 432x288 with 1 Axes>"
            ],
            "image/png": "[encoded data removed]"
          },
          "metadata": {}
        }
      ]
    },
    {
      "cell_type": "markdown",
      "source": [
        "LEARNING CURVES"
      ],
      "metadata": {
        "id": "Y8rcqqXFPHV3"
      }
    }
  ]
}